{
 "cells": [
  {
   "cell_type": "markdown",
   "metadata": {},
   "source": [
    "# FOSI and hist processing vs. altimeter 1993-2018"
   ]
  },
  {
   "cell_type": "code",
   "execution_count": 1,
   "metadata": {},
   "outputs": [],
   "source": [
    "%load_ext autoreload\n",
    "%autoreload 2\n",
    "import xarray as xr \n",
    "import numpy as np  \n",
    "import cftime\n",
    "import copy\n",
    "import scipy.stats\n",
    "from scipy import signal\n",
    "from functools import partial\n",
    "import glob\n",
    "import dask\n",
    "import os\n",
    "import nc_time_axis\n",
    "import matplotlib.pyplot as plt\n",
    "#from geocat.viz import util as gvutil\n",
    "import cartopy\n",
    "import xesmf as xe\n",
    "import xskillscore as xs\n",
    "#cartopy.config['pre_existing_data_dir']='/ihesp/shared/cartopy_features'\n",
    "import cartopy.crs as ccrs\n",
    "import cartopy.feature as cfeature\n",
    "from cartopy.util import add_cyclic_point\n",
    "import matplotlib.ticker as mticker\n",
    "%matplotlib inline\n",
    "\n",
    "from mypyutils import calendar_utils as cal\n",
    "from mypyutils import stat_utils as stat\n",
    "from mypyutils import mapplot_utils as maps\n",
    "from mypyutils import colorbar_utils as cbars\n",
    "from mypyutils import io_utils as io\n",
    "from mypyutils import regrid_utils as regrid"
   ]
  },
  {
   "cell_type": "code",
   "execution_count": 2,
   "metadata": {},
   "outputs": [],
   "source": [
    "def detrend_linear2(da, dim):\n",
    "    \"\"\" linear detrend DataArray along the axis dim \"\"\"\n",
    "    params = da.polyfit(dim=dim, deg=1)\n",
    "    fit = xr.polyval(da[dim], params.polyfit_coefficients)\n",
    "    da = da-fit\n",
    "    return da, params.polyfit_coefficients[0,:,:]\n",
    "\n",
    "def detrend_linear_tg(da, dim):\n",
    "    \"\"\" linear detrend DataArray along the axis dim \"\"\"\n",
    "    params = da.polyfit(dim=dim, deg=1)\n",
    "    fit = xr.polyval(da[dim], params.polyfit_coefficients)\n",
    "    da = da-fit\n",
    "    return da, params.polyfit_coefficients[0,:]\n",
    "    \n",
    "def detrend_deseason_tg(da): #order/fs/low pass filter unused so far\n",
    "    [fosi_det, fosi_trend]=detrend_linear_tg(da, 'time')\n",
    "    fosi_trend=fosi_trend * 1e9  * 60  * 60  * 24 * 365\n",
    "    fosi_mean_sea=fosi_det.groupby(\"time.month\").mean(\"time\")\n",
    "    fosi_desea=fosi_det.groupby(\"time.month\")-fosi_mean_sea  \n",
    "    return fosi_desea.drop_vars('month'), fosi_trend\n",
    "    \n",
    "def detrend_deseason(da): #order/fs/low pass filter unused so far\n",
    "    [fosi_det, fosi_trend]=detrend_linear2(da, 'time')\n",
    "    fosi_trend=fosi_trend * 1e9  * 60  * 60  * 24 * 365\n",
    "    fosi_mean_sea=fosi_det.groupby(\"time.month\").mean(\"time\")\n",
    "    fosi_desea=fosi_det.groupby(\"time.month\")-fosi_mean_sea\n",
    "    return fosi_desea.drop_vars('month'), fosi_trend"
   ]
  },
  {
   "cell_type": "code",
   "execution_count": 3,
   "metadata": {},
   "outputs": [
    {
     "data": {
      "text/plain": [
       "'2023.7.0'"
      ]
     },
     "execution_count": 3,
     "metadata": {},
     "output_type": "execute_result"
    }
   ],
   "source": [
    "import dask\n",
    "from dask.distributed import wait\n",
    "dask.__version__"
   ]
  },
  {
   "cell_type": "markdown",
   "metadata": {},
   "source": [
    "## Create Dask Cluster"
   ]
  },
  {
   "cell_type": "code",
   "execution_count": 6,
   "metadata": {
    "tags": []
   },
   "outputs": [
    {
     "ename": "NameError",
     "evalue": "name 'client' is not defined",
     "output_type": "error",
     "traceback": [
      "\u001b[0;31m---------------------------------------------------------------------------\u001b[0m",
      "\u001b[0;31mNameError\u001b[0m                                 Traceback (most recent call last)",
      "Cell \u001b[0;32mIn[6], line 3\u001b[0m\n\u001b[1;32m      1\u001b[0m \u001b[38;5;66;03m# Close out Dask Cluster and release workers:\u001b[39;00m\n\u001b[1;32m      2\u001b[0m \u001b[38;5;66;03m# NOTE:  only run this cell to terminate Dask Cluster!\u001b[39;00m\n\u001b[0;32m----> 3\u001b[0m \u001b[43mclient\u001b[49m\u001b[38;5;241m.\u001b[39mshutdown()\n\u001b[1;32m      4\u001b[0m get_ipython()\u001b[38;5;241m.\u001b[39msystem(\u001b[38;5;124m'\u001b[39m\u001b[38;5;124mrm dask-worker*\u001b[39m\u001b[38;5;124m'\u001b[39m)\n",
      "\u001b[0;31mNameError\u001b[0m: name 'client' is not defined"
     ]
    }
   ],
   "source": [
    "# Close out Dask Cluster and release workers:\n",
    "# NOTE:  only run this cell to terminate Dask Cluster!\n",
    "client.shutdown()\n",
    "!rm dask-worker*"
   ]
  },
  {
   "cell_type": "code",
   "execution_count": 7,
   "metadata": {},
   "outputs": [],
   "source": [
    "def get_ClusterClient():\n",
    "    import dask\n",
    "    from dask_jobqueue import PBSCluster\n",
    "    from dask.distributed import Client\n",
    "    cluster = PBSCluster(\n",
    "        cores=1,\n",
    "        memory='30GB',\n",
    "        processes=1,\n",
    "        queue='casper',\n",
    "        resource_spec='select=1:ncpus=1:mem=30GB',\n",
    "        account='UARH0002',\n",
    "        walltime='02:00:00',\n",
    "        interface='ext',)\n",
    "\n",
    "    dask.config.set({\n",
    "        'distributed.dashboard.link':\n",
    "        'https://jupyterhub.hpc.ucar.edu/stable/user/{USER}/proxy/{port}/status',\n",
    "        'array.slicing.split_large_chunks': True\n",
    "    })\n",
    "    client = Client(cluster)\n",
    "    return cluster, client"
   ]
  },
  {
   "cell_type": "code",
   "execution_count": 8,
   "metadata": {},
   "outputs": [
    {
     "name": "stderr",
     "output_type": "stream",
     "text": [
      "/glade/work/clittle/conda-envs/mypythonenv/lib/python3.10/site-packages/distributed/node.py:182: UserWarning: Port 8787 is already in use.\n",
      "Perhaps you already have a cluster running?\n",
      "Hosting the HTTP server on port 40505 instead\n",
      "  warnings.warn(\n"
     ]
    }
   ],
   "source": [
    "cluster, client = get_ClusterClient()\n",
    "cluster.scale(20) "
   ]
  },
  {
   "cell_type": "code",
   "execution_count": 9,
   "metadata": {
    "scrolled": true,
    "tags": []
   },
   "outputs": [
    {
     "data": {
      "text/html": [
       "<div>\n",
       "    <div style=\"width: 24px; height: 24px; background-color: #e1e1e1; border: 3px solid #9D9D9D; border-radius: 5px; position: absolute;\"> </div>\n",
       "    <div style=\"margin-left: 48px;\">\n",
       "        <h3 style=\"margin-bottom: 0px;\">Client</h3>\n",
       "        <p style=\"color: #9D9D9D; margin-bottom: 0px;\">Client-8bcd3c58-81ed-11f0-ab4d-10ffe05c005d</p>\n",
       "        <table style=\"width: 100%; text-align: left;\">\n",
       "\n",
       "        <tr>\n",
       "        \n",
       "            <td style=\"text-align: left;\"><strong>Connection method:</strong> Cluster object</td>\n",
       "            <td style=\"text-align: left;\"><strong>Cluster type:</strong> dask_jobqueue.PBSCluster</td>\n",
       "        \n",
       "        </tr>\n",
       "\n",
       "        \n",
       "            <tr>\n",
       "                <td style=\"text-align: left;\">\n",
       "                    <strong>Dashboard: </strong> <a href=\"https://jupyterhub.hpc.ucar.edu/stable/user/clittle/proxy/40505/status\" target=\"_blank\">https://jupyterhub.hpc.ucar.edu/stable/user/clittle/proxy/40505/status</a>\n",
       "                </td>\n",
       "                <td style=\"text-align: left;\"></td>\n",
       "            </tr>\n",
       "        \n",
       "\n",
       "        </table>\n",
       "\n",
       "        \n",
       "            <button style=\"margin-bottom: 12px;\" data-commandlinker-command=\"dask:populate-and-launch-layout\" data-commandlinker-args='{\"url\": \"https://jupyterhub.hpc.ucar.edu/stable/user/clittle/proxy/40505/status\" }'>\n",
       "                Launch dashboard in JupyterLab\n",
       "            </button>\n",
       "        \n",
       "\n",
       "        \n",
       "            <details>\n",
       "            <summary style=\"margin-bottom: 20px;\"><h3 style=\"display: inline;\">Cluster Info</h3></summary>\n",
       "            <div class=\"jp-RenderedHTMLCommon jp-RenderedHTML jp-mod-trusted jp-OutputArea-output\">\n",
       "    <div style=\"width: 24px; height: 24px; background-color: #e1e1e1; border: 3px solid #9D9D9D; border-radius: 5px; position: absolute;\">\n",
       "    </div>\n",
       "    <div style=\"margin-left: 48px;\">\n",
       "        <h3 style=\"margin-bottom: 0px; margin-top: 0px;\">PBSCluster</h3>\n",
       "        <p style=\"color: #9D9D9D; margin-bottom: 0px;\">ffc47385</p>\n",
       "        <table style=\"width: 100%; text-align: left;\">\n",
       "            <tr>\n",
       "                <td style=\"text-align: left;\">\n",
       "                    <strong>Dashboard:</strong> <a href=\"https://jupyterhub.hpc.ucar.edu/stable/user/clittle/proxy/40505/status\" target=\"_blank\">https://jupyterhub.hpc.ucar.edu/stable/user/clittle/proxy/40505/status</a>\n",
       "                </td>\n",
       "                <td style=\"text-align: left;\">\n",
       "                    <strong>Workers:</strong> 0\n",
       "                </td>\n",
       "            </tr>\n",
       "            <tr>\n",
       "                <td style=\"text-align: left;\">\n",
       "                    <strong>Total threads:</strong> 0\n",
       "                </td>\n",
       "                <td style=\"text-align: left;\">\n",
       "                    <strong>Total memory:</strong> 0 B\n",
       "                </td>\n",
       "            </tr>\n",
       "            \n",
       "        </table>\n",
       "\n",
       "        <details>\n",
       "            <summary style=\"margin-bottom: 20px;\">\n",
       "                <h3 style=\"display: inline;\">Scheduler Info</h3>\n",
       "            </summary>\n",
       "\n",
       "            <div style=\"\">\n",
       "    <div>\n",
       "        <div style=\"width: 24px; height: 24px; background-color: #FFF7E5; border: 3px solid #FF6132; border-radius: 5px; position: absolute;\"> </div>\n",
       "        <div style=\"margin-left: 48px;\">\n",
       "            <h3 style=\"margin-bottom: 0px;\">Scheduler</h3>\n",
       "            <p style=\"color: #9D9D9D; margin-bottom: 0px;\">Scheduler-3b8d5397-6ebe-4d64-9483-262fd74555ab</p>\n",
       "            <table style=\"width: 100%; text-align: left;\">\n",
       "                <tr>\n",
       "                    <td style=\"text-align: left;\">\n",
       "                        <strong>Comm:</strong> tcp://128.117.208.177:36709\n",
       "                    </td>\n",
       "                    <td style=\"text-align: left;\">\n",
       "                        <strong>Workers:</strong> 0\n",
       "                    </td>\n",
       "                </tr>\n",
       "                <tr>\n",
       "                    <td style=\"text-align: left;\">\n",
       "                        <strong>Dashboard:</strong> <a href=\"https://jupyterhub.hpc.ucar.edu/stable/user/clittle/proxy/40505/status\" target=\"_blank\">https://jupyterhub.hpc.ucar.edu/stable/user/clittle/proxy/40505/status</a>\n",
       "                    </td>\n",
       "                    <td style=\"text-align: left;\">\n",
       "                        <strong>Total threads:</strong> 0\n",
       "                    </td>\n",
       "                </tr>\n",
       "                <tr>\n",
       "                    <td style=\"text-align: left;\">\n",
       "                        <strong>Started:</strong> Just now\n",
       "                    </td>\n",
       "                    <td style=\"text-align: left;\">\n",
       "                        <strong>Total memory:</strong> 0 B\n",
       "                    </td>\n",
       "                </tr>\n",
       "            </table>\n",
       "        </div>\n",
       "    </div>\n",
       "\n",
       "    <details style=\"margin-left: 48px;\">\n",
       "        <summary style=\"margin-bottom: 20px;\">\n",
       "            <h3 style=\"display: inline;\">Workers</h3>\n",
       "        </summary>\n",
       "\n",
       "        \n",
       "\n",
       "    </details>\n",
       "</div>\n",
       "\n",
       "        </details>\n",
       "    </div>\n",
       "</div>\n",
       "            </details>\n",
       "        \n",
       "\n",
       "    </div>\n",
       "</div>"
      ],
      "text/plain": [
       "<Client: 'tcp://128.117.208.177:36709' processes=0 threads=0, memory=0 B>"
      ]
     },
     "execution_count": 9,
     "metadata": {},
     "output_type": "execute_result"
    }
   ],
   "source": [
    "client"
   ]
  },
  {
   "cell_type": "markdown",
   "metadata": {
    "tags": []
   },
   "source": [
    "## Altimetry input"
   ]
  },
  {
   "cell_type": "code",
   "execution_count": 10,
   "metadata": {},
   "outputs": [],
   "source": [
    "datadir = '/glade/work/clittle/altimetry/MEASURES/monthly/'\n",
    "alt=xr.open_mfdataset(datadir+'monthly*.nc')\n",
    "alt=alt*100"
   ]
  },
  {
   "cell_type": "code",
   "execution_count": 11,
   "metadata": {},
   "outputs": [
    {
     "name": "stderr",
     "output_type": "stream",
     "text": [
      "/glade/derecho/scratch/clittle/tmp/ipykernel_43853/2337161318.py:4: DeprecationWarning: dropping variables using `drop` is deprecated; use drop_vars.\n",
      "  alt = alt.drop(['lon_b','lat_b'])\n"
     ]
    }
   ],
   "source": [
    "# alt=alt.rename_dims({'Latitude': 'nlat','Longitude': 'nlon'})\n",
    "alt=alt.rename({'Time': 'time','Longitude':'lon','Lon_bounds':'lon_b','Latitude':'lat','Lat_bounds':'lat_b'})\n",
    "# alt=alt.groupby('time.year').mean('time').rename({'year':'time'}) \n",
    "alt = alt.drop(['lon_b','lat_b'])\n",
    "ds_alt=alt.sel(time=slice('1992-01-01', '2019-01-01'))#,Longitude=slice(xlo,xhi),Latitude=slice(ylo,yhi))\n",
    "# ds_alt=ds_alt.drop_indexes({'time','lon','lat'})"
   ]
  },
  {
   "cell_type": "code",
   "execution_count": 12,
   "metadata": {},
   "outputs": [],
   "source": [
    "gmsl=xr.open_mfdataset('../USEC_FOSI_rez_comp/gmsl_mo.nc')\n",
    "gmsl=gmsl.gmsl_variation/10"
   ]
  },
  {
   "cell_type": "code",
   "execution_count": 13,
   "metadata": {},
   "outputs": [],
   "source": [
    "da=ds_alt.SLA-gmsl"
   ]
  },
  {
   "cell_type": "code",
   "execution_count": 14,
   "metadata": {},
   "outputs": [],
   "source": [
    "xlo=1550; xhi=2200; ylo=550; yhi=900;\n",
    "da=da.isel(lon=slice(xlo,xhi),lat=slice(ylo,yhi))#.sel(time=slice('1993-01-01','2019-1-1'))\n",
    "# # # tt.ssh[0,:,:].plot()\n",
    "# alt_ec.to_netcdf('/glade/work/clittle/p2679/alt_native_ec_big.nc',mode='w')"
   ]
  },
  {
   "cell_type": "code",
   "execution_count": 15,
   "metadata": {},
   "outputs": [],
   "source": [
    "# [altdesea, alttrend]=detrend_deseason(da.load()) \n",
    "# # altdesea=altdesea.load()\n",
    "# plt.pcolormesh(altdesea.lon,altdesea.lat, altdesea[0,:,:])\n",
    "# # altdesea.shape\n",
    "# alt_ec=altdesea.to_dataset(name='ssh')\n",
    "# alt_ec.to_netcdf('/glade/work/clittle/p2679/alt_native_ec_big.nc',mode='w')"
   ]
  },
  {
   "cell_type": "code",
   "execution_count": null,
   "metadata": {},
   "outputs": [],
   "source": []
  },
  {
   "cell_type": "code",
   "execution_count": 16,
   "metadata": {},
   "outputs": [],
   "source": [
    "ds=xr.open_dataset('/glade/work/yeager/datashare/ALPACA/g.e21.GIAF_JRA_v1p5.TL319_t13.001.pop.h.000101_006612.SSH.nc')\n",
    "                   # , parallel=True)\n",
    "ds=ds.chunk(40, 100, 100)\n",
    "# ds=xr.open_mfdataset('/glade/work/yeager/datashare/ALPACA/g.e21.GIAF_JRA_v1p5.TL319_g17.004.pop.h.000101_006612.SSH.nc')"
   ]
  },
  {
   "cell_type": "code",
   "execution_count": 20,
   "metadata": {},
   "outputs": [],
   "source": [
    "ds = cal.time_set_midmonth(ds, \"time\") #LR\n",
    "ds=ds.where(ds.SSH < 1e5)\n",
    "da=ds.SSH#.isel(nlon=slice(xlo,xhi),nlat=slice(ylo,yhi))\n",
    "ylo=1400; yhi=1800; xlo=200; xhi=700; #HR2 EC SMALL\n",
    "da=da.isel(time=slice(792-29*12,792-60)).isel(nlon=slice(xlo,xhi),nlat=slice(ylo,yhi))\n"
   ]
  },
  {
   "cell_type": "code",
   "execution_count": null,
   "metadata": {},
   "outputs": [],
   "source": [
    "plt.pcolormesh(da[0,:,:])"
   ]
  },
  {
   "cell_type": "code",
   "execution_count": 28,
   "metadata": {},
   "outputs": [],
   "source": [
    "# [hrdesea, hrtrend]=detrend_deseason(da) \n",
    "# # da=da_out.to_dataset(name='ssh')\n",
    "# # plt.pcolormesh(hrdesea[0,0,:,:])\n",
    "# # hrdesea=hrdesea.mean(dim='cycle').drop_vars({'nlat', 'nlon','time'})\n",
    "# hrdesea=hrdesea.to_dataset(name='ssh')\n",
    "# hrdesea.to_netcdf('/glade/work/clittle/p2679/fosi_hr_native_ec_cyc4.nc',mode='w')\n",
    "# # hrdesea"
   ]
  },
  {
   "cell_type": "code",
   "execution_count": 45,
   "metadata": {},
   "outputs": [
    {
     "ename": "KilledWorker",
     "evalue": "Attempted to run task ('where-getitem-9766f5b449acdb32dae83e7a0c0df670', 0, 0, 0) on 3 different workers, but all those workers died while running it. The last worker that attempt to run the task was tcp://128.117.208.229:46597. Inspecting worker logs is often a good next step to diagnose what went wrong. For more information see https://distributed.dask.org/en/stable/killed.html.",
     "output_type": "error",
     "traceback": [
      "\u001b[0;31m---------------------------------------------------------------------------\u001b[0m",
      "\u001b[0;31mKilledWorker\u001b[0m                              Traceback (most recent call last)",
      "Cell \u001b[0;32mIn[45], line 6\u001b[0m\n\u001b[1;32m      4\u001b[0m tgs_in\u001b[38;5;241m=\u001b[39mpd\u001b[38;5;241m.\u001b[39mread_pickle(\u001b[38;5;124m\"\u001b[39m\u001b[38;5;124m./../USEC_FOSI_rez_comp/tgs_in.pkl\u001b[39m\u001b[38;5;124m\"\u001b[39m)\n\u001b[1;32m      5\u001b[0m omask\u001b[38;5;241m=\u001b[39mxr\u001b[38;5;241m.\u001b[39mwhere(np\u001b[38;5;241m.\u001b[39misnan(da[\u001b[38;5;241m0\u001b[39m,:,:]), \u001b[38;5;241m0\u001b[39m, \u001b[38;5;241m1\u001b[39m)\n\u001b[0;32m----> 6\u001b[0m tgs_hr_xr\u001b[38;5;241m=\u001b[39m\u001b[43mmomlevel\u001b[49m\u001b[38;5;241;43m.\u001b[39;49m\u001b[43mextract_tidegauge\u001b[49m\u001b[43m(\u001b[49m\u001b[43mda\u001b[49m\u001b[43m,\u001b[49m\u001b[43m \u001b[49m\u001b[43mda\u001b[49m\u001b[38;5;241;43m.\u001b[39;49m\u001b[43mTLONG\u001b[49m\u001b[43m,\u001b[49m\u001b[43m \u001b[49m\u001b[43mda\u001b[49m\u001b[38;5;241;43m.\u001b[39;49m\u001b[43mTLAT\u001b[49m\u001b[43m,\u001b[49m\u001b[43m \u001b[49m\u001b[43mmask\u001b[49m\u001b[38;5;241;43m=\u001b[39;49m\u001b[43momask\u001b[49m\u001b[43m,\u001b[49m\u001b[43m \u001b[49m\u001b[43mcsv\u001b[49m\u001b[38;5;241;43m=\u001b[39;49m\u001b[43mtgcsvin\u001b[49m\u001b[43m)\u001b[49m\n\u001b[1;32m      7\u001b[0m tgs_hr_xr\u001b[38;5;241m=\u001b[39mtgs_hr_xr\u001b[38;5;241m.\u001b[39mto_array(\u001b[38;5;124m\"\u001b[39m\u001b[38;5;124mtgindex\u001b[39m\u001b[38;5;124m\"\u001b[39m, name\u001b[38;5;241m=\u001b[39m\u001b[38;5;124m\"\u001b[39m\u001b[38;5;124mssh\u001b[39m\u001b[38;5;124m\"\u001b[39m)\u001b[38;5;241m.\u001b[39mto_dataset()\u001b[38;5;241m.\u001b[39massign_coords(\n\u001b[1;32m      8\u001b[0m     tgindex\u001b[38;5;241m=\u001b[39mtgs_in\u001b[38;5;241m.\u001b[39mname\u001b[38;5;241m.\u001b[39mto_list()\n\u001b[1;32m      9\u001b[0m )\n\u001b[1;32m     10\u001b[0m \u001b[38;5;66;03m# hr_tg=tgs_hr_xr.ssh.load()\u001b[39;00m\n",
      "File \u001b[0;32m/glade/work/clittle/conda-envs/mypythonenv/lib/python3.10/site-packages/momlevel/tidegauge.py:118\u001b[0m, in \u001b[0;36mextract_tidegauge\u001b[0;34m(arr, xcoord, ycoord, csv, mask, threshold, disable_warning)\u001b[0m\n\u001b[1;32m    111\u001b[0m     mask \u001b[38;5;241m=\u001b[39m mask\u001b[38;5;241m.\u001b[39mrename(\u001b[38;5;124m\"\u001b[39m\u001b[38;5;124mmask\u001b[39m\u001b[38;5;124m\"\u001b[39m)\n\u001b[1;32m    113\u001b[0m \u001b[38;5;66;03m# Create pandas.DataFrame of model coordinate info\u001b[39;00m\n\u001b[1;32m    114\u001b[0m df_model \u001b[38;5;241m=\u001b[39m pd\u001b[38;5;241m.\u001b[39mconcat(\n\u001b[1;32m    115\u001b[0m     [\n\u001b[1;32m    116\u001b[0m         _xcoord\u001b[38;5;241m.\u001b[39mto_dataframe(),\n\u001b[1;32m    117\u001b[0m         _ycoord\u001b[38;5;241m.\u001b[39mto_dataframe(),\n\u001b[0;32m--> 118\u001b[0m         \u001b[43mmask\u001b[49m\u001b[38;5;241;43m.\u001b[39;49m\u001b[43mto_dataframe\u001b[49m\u001b[43m(\u001b[49m\u001b[43m)\u001b[49m,\n\u001b[1;32m    119\u001b[0m     ],\n\u001b[1;32m    120\u001b[0m     axis\u001b[38;5;241m=\u001b[39m\u001b[38;5;241m1\u001b[39m,\n\u001b[1;32m    121\u001b[0m )\n\u001b[1;32m    123\u001b[0m \u001b[38;5;66;03m# Get pd.DataFrame of target locations. This DataFrame must contain columns\u001b[39;00m\n\u001b[1;32m    124\u001b[0m \u001b[38;5;66;03m# named `name`, `lat`, and `lon`\u001b[39;00m\n\u001b[1;32m    125\u001b[0m \u001b[38;5;28;01mif\u001b[39;00m csv \u001b[38;5;241m==\u001b[39m \u001b[38;5;124m\"\u001b[39m\u001b[38;5;124mus\u001b[39m\u001b[38;5;124m\"\u001b[39m:\n",
      "File \u001b[0;32m/glade/work/clittle/conda-envs/mypythonenv/lib/python3.10/site-packages/xarray/core/dataarray.py:3864\u001b[0m, in \u001b[0;36mDataArray.to_dataframe\u001b[0;34m(self, name, dim_order)\u001b[0m\n\u001b[1;32m   3861\u001b[0m \u001b[38;5;28;01melse\u001b[39;00m:\n\u001b[1;32m   3862\u001b[0m     ordered_dims \u001b[38;5;241m=\u001b[39m ds\u001b[38;5;241m.\u001b[39m_normalize_dim_order(dim_order\u001b[38;5;241m=\u001b[39mdim_order)\n\u001b[0;32m-> 3864\u001b[0m df \u001b[38;5;241m=\u001b[39m \u001b[43mds\u001b[49m\u001b[38;5;241;43m.\u001b[39;49m\u001b[43m_to_dataframe\u001b[49m\u001b[43m(\u001b[49m\u001b[43mordered_dims\u001b[49m\u001b[43m)\u001b[49m\n\u001b[1;32m   3865\u001b[0m df\u001b[38;5;241m.\u001b[39mcolumns \u001b[38;5;241m=\u001b[39m [name \u001b[38;5;28;01mif\u001b[39;00m c \u001b[38;5;241m==\u001b[39m unique_name \u001b[38;5;28;01melse\u001b[39;00m c \u001b[38;5;28;01mfor\u001b[39;00m c \u001b[38;5;129;01min\u001b[39;00m df\u001b[38;5;241m.\u001b[39mcolumns]\n\u001b[1;32m   3866\u001b[0m \u001b[38;5;28;01mreturn\u001b[39;00m df\n",
      "File \u001b[0;32m/glade/work/clittle/conda-envs/mypythonenv/lib/python3.10/site-packages/xarray/core/dataset.py:7162\u001b[0m, in \u001b[0;36mDataset._to_dataframe\u001b[0;34m(self, ordered_dims)\u001b[0m\n\u001b[1;32m   7160\u001b[0m \u001b[38;5;28;01mdef\u001b[39;00m \u001b[38;5;21m_to_dataframe\u001b[39m(\u001b[38;5;28mself\u001b[39m, ordered_dims: Mapping[Any, \u001b[38;5;28mint\u001b[39m]):\n\u001b[1;32m   7161\u001b[0m     columns \u001b[38;5;241m=\u001b[39m [k \u001b[38;5;28;01mfor\u001b[39;00m k \u001b[38;5;129;01min\u001b[39;00m \u001b[38;5;28mself\u001b[39m\u001b[38;5;241m.\u001b[39mvariables \u001b[38;5;28;01mif\u001b[39;00m k \u001b[38;5;129;01mnot\u001b[39;00m \u001b[38;5;129;01min\u001b[39;00m \u001b[38;5;28mself\u001b[39m\u001b[38;5;241m.\u001b[39mdims]\n\u001b[0;32m-> 7162\u001b[0m     data \u001b[38;5;241m=\u001b[39m [\n\u001b[1;32m   7163\u001b[0m         \u001b[38;5;28mself\u001b[39m\u001b[38;5;241m.\u001b[39m_variables[k]\u001b[38;5;241m.\u001b[39mset_dims(ordered_dims)\u001b[38;5;241m.\u001b[39mvalues\u001b[38;5;241m.\u001b[39mreshape(\u001b[38;5;241m-\u001b[39m\u001b[38;5;241m1\u001b[39m)\n\u001b[1;32m   7164\u001b[0m         \u001b[38;5;28;01mfor\u001b[39;00m k \u001b[38;5;129;01min\u001b[39;00m columns\n\u001b[1;32m   7165\u001b[0m     ]\n\u001b[1;32m   7166\u001b[0m     index \u001b[38;5;241m=\u001b[39m \u001b[38;5;28mself\u001b[39m\u001b[38;5;241m.\u001b[39mcoords\u001b[38;5;241m.\u001b[39mto_index([\u001b[38;5;241m*\u001b[39mordered_dims])\n\u001b[1;32m   7167\u001b[0m     \u001b[38;5;28;01mreturn\u001b[39;00m pd\u001b[38;5;241m.\u001b[39mDataFrame(\u001b[38;5;28mdict\u001b[39m(\u001b[38;5;28mzip\u001b[39m(columns, data)), index\u001b[38;5;241m=\u001b[39mindex)\n",
      "File \u001b[0;32m/glade/work/clittle/conda-envs/mypythonenv/lib/python3.10/site-packages/xarray/core/dataset.py:7163\u001b[0m, in \u001b[0;36m<listcomp>\u001b[0;34m(.0)\u001b[0m\n\u001b[1;32m   7160\u001b[0m \u001b[38;5;28;01mdef\u001b[39;00m \u001b[38;5;21m_to_dataframe\u001b[39m(\u001b[38;5;28mself\u001b[39m, ordered_dims: Mapping[Any, \u001b[38;5;28mint\u001b[39m]):\n\u001b[1;32m   7161\u001b[0m     columns \u001b[38;5;241m=\u001b[39m [k \u001b[38;5;28;01mfor\u001b[39;00m k \u001b[38;5;129;01min\u001b[39;00m \u001b[38;5;28mself\u001b[39m\u001b[38;5;241m.\u001b[39mvariables \u001b[38;5;28;01mif\u001b[39;00m k \u001b[38;5;129;01mnot\u001b[39;00m \u001b[38;5;129;01min\u001b[39;00m \u001b[38;5;28mself\u001b[39m\u001b[38;5;241m.\u001b[39mdims]\n\u001b[1;32m   7162\u001b[0m     data \u001b[38;5;241m=\u001b[39m [\n\u001b[0;32m-> 7163\u001b[0m         \u001b[38;5;28;43mself\u001b[39;49m\u001b[38;5;241;43m.\u001b[39;49m\u001b[43m_variables\u001b[49m\u001b[43m[\u001b[49m\u001b[43mk\u001b[49m\u001b[43m]\u001b[49m\u001b[38;5;241;43m.\u001b[39;49m\u001b[43mset_dims\u001b[49m\u001b[43m(\u001b[49m\u001b[43mordered_dims\u001b[49m\u001b[43m)\u001b[49m\u001b[38;5;241;43m.\u001b[39;49m\u001b[43mvalues\u001b[49m\u001b[38;5;241m.\u001b[39mreshape(\u001b[38;5;241m-\u001b[39m\u001b[38;5;241m1\u001b[39m)\n\u001b[1;32m   7164\u001b[0m         \u001b[38;5;28;01mfor\u001b[39;00m k \u001b[38;5;129;01min\u001b[39;00m columns\n\u001b[1;32m   7165\u001b[0m     ]\n\u001b[1;32m   7166\u001b[0m     index \u001b[38;5;241m=\u001b[39m \u001b[38;5;28mself\u001b[39m\u001b[38;5;241m.\u001b[39mcoords\u001b[38;5;241m.\u001b[39mto_index([\u001b[38;5;241m*\u001b[39mordered_dims])\n\u001b[1;32m   7167\u001b[0m     \u001b[38;5;28;01mreturn\u001b[39;00m pd\u001b[38;5;241m.\u001b[39mDataFrame(\u001b[38;5;28mdict\u001b[39m(\u001b[38;5;28mzip\u001b[39m(columns, data)), index\u001b[38;5;241m=\u001b[39mindex)\n",
      "File \u001b[0;32m/glade/work/clittle/conda-envs/mypythonenv/lib/python3.10/site-packages/xarray/core/variable.py:556\u001b[0m, in \u001b[0;36mVariable.values\u001b[0;34m(self)\u001b[0m\n\u001b[1;32m    553\u001b[0m \u001b[38;5;129m@property\u001b[39m\n\u001b[1;32m    554\u001b[0m \u001b[38;5;28;01mdef\u001b[39;00m \u001b[38;5;21mvalues\u001b[39m(\u001b[38;5;28mself\u001b[39m):\n\u001b[1;32m    555\u001b[0m \u001b[38;5;250m    \u001b[39m\u001b[38;5;124;03m\"\"\"The variable's data as a numpy.ndarray\"\"\"\u001b[39;00m\n\u001b[0;32m--> 556\u001b[0m     \u001b[38;5;28;01mreturn\u001b[39;00m \u001b[43m_as_array_or_item\u001b[49m\u001b[43m(\u001b[49m\u001b[38;5;28;43mself\u001b[39;49m\u001b[38;5;241;43m.\u001b[39;49m\u001b[43m_data\u001b[49m\u001b[43m)\u001b[49m\n",
      "File \u001b[0;32m/glade/work/clittle/conda-envs/mypythonenv/lib/python3.10/site-packages/xarray/core/variable.py:306\u001b[0m, in \u001b[0;36m_as_array_or_item\u001b[0;34m(data)\u001b[0m\n\u001b[1;32m    292\u001b[0m \u001b[38;5;28;01mdef\u001b[39;00m \u001b[38;5;21m_as_array_or_item\u001b[39m(data):\n\u001b[1;32m    293\u001b[0m \u001b[38;5;250m    \u001b[39m\u001b[38;5;124;03m\"\"\"Return the given values as a numpy array, or as an individual item if\u001b[39;00m\n\u001b[1;32m    294\u001b[0m \u001b[38;5;124;03m    it's a 0d datetime64 or timedelta64 array.\u001b[39;00m\n\u001b[1;32m    295\u001b[0m \n\u001b[0;32m   (...)\u001b[0m\n\u001b[1;32m    304\u001b[0m \u001b[38;5;124;03m    TODO: remove this (replace with np.asarray) once these issues are fixed\u001b[39;00m\n\u001b[1;32m    305\u001b[0m \u001b[38;5;124;03m    \"\"\"\u001b[39;00m\n\u001b[0;32m--> 306\u001b[0m     data \u001b[38;5;241m=\u001b[39m \u001b[43mnp\u001b[49m\u001b[38;5;241;43m.\u001b[39;49m\u001b[43masarray\u001b[49m\u001b[43m(\u001b[49m\u001b[43mdata\u001b[49m\u001b[43m)\u001b[49m\n\u001b[1;32m    307\u001b[0m     \u001b[38;5;28;01mif\u001b[39;00m data\u001b[38;5;241m.\u001b[39mndim \u001b[38;5;241m==\u001b[39m \u001b[38;5;241m0\u001b[39m:\n\u001b[1;32m    308\u001b[0m         \u001b[38;5;28;01mif\u001b[39;00m data\u001b[38;5;241m.\u001b[39mdtype\u001b[38;5;241m.\u001b[39mkind \u001b[38;5;241m==\u001b[39m \u001b[38;5;124m\"\u001b[39m\u001b[38;5;124mM\u001b[39m\u001b[38;5;124m\"\u001b[39m:\n",
      "File \u001b[0;32m/glade/work/clittle/conda-envs/mypythonenv/lib/python3.10/site-packages/distributed/client.py:2247\u001b[0m, in \u001b[0;36mClient._gather\u001b[0;34m(self, futures, errors, direct, local_worker)\u001b[0m\n\u001b[1;32m   2245\u001b[0m         exc \u001b[38;5;241m=\u001b[39m CancelledError(key)\n\u001b[1;32m   2246\u001b[0m     \u001b[38;5;28;01melse\u001b[39;00m:\n\u001b[0;32m-> 2247\u001b[0m         \u001b[38;5;28;01mraise\u001b[39;00m exception\u001b[38;5;241m.\u001b[39mwith_traceback(traceback)\n\u001b[1;32m   2248\u001b[0m     \u001b[38;5;28;01mraise\u001b[39;00m exc\n\u001b[1;32m   2249\u001b[0m \u001b[38;5;28;01mif\u001b[39;00m errors \u001b[38;5;241m==\u001b[39m \u001b[38;5;124m\"\u001b[39m\u001b[38;5;124mskip\u001b[39m\u001b[38;5;124m\"\u001b[39m:\n",
      "\u001b[0;31mKilledWorker\u001b[0m: Attempted to run task ('where-getitem-9766f5b449acdb32dae83e7a0c0df670', 0, 0, 0) on 3 different workers, but all those workers died while running it. The last worker that attempt to run the task was tcp://128.117.208.229:46597. Inspecting worker logs is often a good next step to diagnose what went wrong. For more information see https://distributed.dask.org/en/stable/killed.html."
     ]
    }
   ],
   "source": [
    "import momlevel\n",
    "import pandas as pd\n",
    "tgcsvin=\"./../USEC_FOSI_rez_comp/tgs_in.csv\" #need to read in from csv for momlevel\n",
    "tgs_in=pd.read_pickle(\"./../USEC_FOSI_rez_comp/tgs_in.pkl\")\n",
    "omask=xr.where(np.isnan(da[0,:,:]), 0, 1)\n",
    "tgs_hr_xr=momlevel.extract_tidegauge(da, da.TLONG, da.TLAT, mask=omask, csv=tgcsvin)\n",
    "tgs_hr_xr=tgs_hr_xr.to_array(\"tgindex\", name=\"ssh\").to_dataset().assign_coords(\n",
    "    tgindex=tgs_in.name.to_list()\n",
    ")\n",
    "# hr_tg=tgs_hr_xr.ssh.load()"
   ]
  },
  {
   "cell_type": "code",
   "execution_count": null,
   "metadata": {},
   "outputs": [],
   "source": [
    "hr_tg"
   ]
  },
  {
   "cell_type": "code",
   "execution_count": null,
   "metadata": {},
   "outputs": [],
   "source": [
    "[hrdesea, hrtrend]=detrend_deseason_tg(hr_tg)"
   ]
  },
  {
   "cell_type": "code",
   "execution_count": null,
   "metadata": {},
   "outputs": [],
   "source": [
    "# hrdesea\n",
    "hrdesea=hrdesea.to_dataset(name='ssh')\n",
    "# hrdesea=hrdesea.to_dataset(name='tauy')\n",
    "hrdesea.to_netcdf('/glade/work/clittle/p2679/alpaca_hr_tg_ssh.nc',mode='w')"
   ]
  },
  {
   "cell_type": "code",
   "execution_count": null,
   "metadata": {},
   "outputs": [],
   "source": []
  }
 ],
 "metadata": {
  "kernelspec": {
   "display_name": "Python [conda env:mypythonenv]",
   "language": "python",
   "name": "conda-env-mypythonenv-py"
  },
  "language_info": {
   "codemirror_mode": {
    "name": "ipython",
    "version": 3
   },
   "file_extension": ".py",
   "mimetype": "text/x-python",
   "name": "python",
   "nbconvert_exporter": "python",
   "pygments_lexer": "ipython3",
   "version": "3.10.12"
  }
 },
 "nbformat": 4,
 "nbformat_minor": 4
}
